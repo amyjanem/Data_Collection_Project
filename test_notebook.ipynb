{
 "cells": [
  {
   "cell_type": "code",
   "execution_count": 1,
   "metadata": {},
   "outputs": [],
   "source": [
    "import time\n",
    "from data_collection import MyProteinScraper\n",
    "from selenium import webdriver\n",
    "\n",
    "bot = MyProteinScraper()\n",
    "\n",
    "\n",
    "bot.close_email_signup()\n",
    "bot.accept_cookies()\n",
    "bot.nutrition_button_click()\n",
    "bot.open_all_nutrition_products()\n"
   ]
  },
  {
   "cell_type": "code",
   "execution_count": 3,
   "metadata": {},
   "outputs": [
    {
     "name": "stdout",
     "output_type": "stream",
     "text": [
      "[<selenium.webdriver.remote.webelement.WebElement (session=\"c8f342867191cf2b55ce79b4a74b7186\", element=\"11e0e3fd-dbf7-4f5e-ac05-1ed883442f7f\")>, <selenium.webdriver.remote.webelement.WebElement (session=\"c8f342867191cf2b55ce79b4a74b7186\", element=\"d7cbafae-2339-4367-a04f-11210d762cf2\")>, <selenium.webdriver.remote.webelement.WebElement (session=\"c8f342867191cf2b55ce79b4a74b7186\", element=\"78fe931e-6ef5-47a7-b2a1-45771e0e02c7\")>, <selenium.webdriver.remote.webelement.WebElement (session=\"c8f342867191cf2b55ce79b4a74b7186\", element=\"37b9184b-a1e7-4816-926e-e97942369d8c\")>, <selenium.webdriver.remote.webelement.WebElement (session=\"c8f342867191cf2b55ce79b4a74b7186\", element=\"8060a3b6-909d-4a09-bbe9-5a56f8398563\")>, <selenium.webdriver.remote.webelement.WebElement (session=\"c8f342867191cf2b55ce79b4a74b7186\", element=\"fdd2bdd9-eef4-45c1-80f7-6d601f88fb03\")>, <selenium.webdriver.remote.webelement.WebElement (session=\"c8f342867191cf2b55ce79b4a74b7186\", element=\"13a46cc4-c6ec-455b-ab09-d45dad0c0691\")>, <selenium.webdriver.remote.webelement.WebElement (session=\"c8f342867191cf2b55ce79b4a74b7186\", element=\"c86d4318-4838-415a-8443-29a030b02752\")>, <selenium.webdriver.remote.webelement.WebElement (session=\"c8f342867191cf2b55ce79b4a74b7186\", element=\"0bbb69ee-29ff-420b-98ee-4134e28e0ee5\")>, <selenium.webdriver.remote.webelement.WebElement (session=\"c8f342867191cf2b55ce79b4a74b7186\", element=\"0b887f40-2daa-42cb-8cf8-e591b7fab578\")>, <selenium.webdriver.remote.webelement.WebElement (session=\"c8f342867191cf2b55ce79b4a74b7186\", element=\"4eb108ac-fe99-4243-8a7b-fae0203db64a\")>, <selenium.webdriver.remote.webelement.WebElement (session=\"c8f342867191cf2b55ce79b4a74b7186\", element=\"9d108f4b-992a-4228-b86c-c14424d45fe5\")>, <selenium.webdriver.remote.webelement.WebElement (session=\"c8f342867191cf2b55ce79b4a74b7186\", element=\"dda6e12d-f347-4d31-b75d-18b8a4dacb5c\")>, <selenium.webdriver.remote.webelement.WebElement (session=\"c8f342867191cf2b55ce79b4a74b7186\", element=\"8cb45d99-840c-476b-8421-3bd27807be4b\")>, <selenium.webdriver.remote.webelement.WebElement (session=\"c8f342867191cf2b55ce79b4a74b7186\", element=\"25f61cdd-d371-41b9-9e19-a1c5a1ba7055\")>, <selenium.webdriver.remote.webelement.WebElement (session=\"c8f342867191cf2b55ce79b4a74b7186\", element=\"4c751118-f1bf-421b-bd0d-56c2df94ef35\")>, <selenium.webdriver.remote.webelement.WebElement (session=\"c8f342867191cf2b55ce79b4a74b7186\", element=\"5837ddab-cc94-4d34-b8a1-f0afdeae8a63\")>, <selenium.webdriver.remote.webelement.WebElement (session=\"c8f342867191cf2b55ce79b4a74b7186\", element=\"85dd787e-d8bb-47a4-a75e-7f758ba5fe46\")>, <selenium.webdriver.remote.webelement.WebElement (session=\"c8f342867191cf2b55ce79b4a74b7186\", element=\"f2765ace-df52-4389-9114-fba978350087\")>, <selenium.webdriver.remote.webelement.WebElement (session=\"c8f342867191cf2b55ce79b4a74b7186\", element=\"5d2cf4ae-8965-4354-b97e-c9e8ce6b550f\")>, <selenium.webdriver.remote.webelement.WebElement (session=\"c8f342867191cf2b55ce79b4a74b7186\", element=\"285c7440-2d6d-4957-912a-22b88853e81c\")>, <selenium.webdriver.remote.webelement.WebElement (session=\"c8f342867191cf2b55ce79b4a74b7186\", element=\"9e7dab99-a17d-4362-9585-dbef8a63742b\")>, <selenium.webdriver.remote.webelement.WebElement (session=\"c8f342867191cf2b55ce79b4a74b7186\", element=\"0ca4e183-36f9-4fda-8fb0-e00bfaa39d24\")>, <selenium.webdriver.remote.webelement.WebElement (session=\"c8f342867191cf2b55ce79b4a74b7186\", element=\"cfcdc5d6-8641-429b-80c1-28fdb08c534e\")>, <selenium.webdriver.remote.webelement.WebElement (session=\"c8f342867191cf2b55ce79b4a74b7186\", element=\"fbdfb2e8-4fcf-4ee7-86d2-2ccaad7e56b2\")>, <selenium.webdriver.remote.webelement.WebElement (session=\"c8f342867191cf2b55ce79b4a74b7186\", element=\"8cde060f-cb09-4477-bb93-6d708536e085\")>, <selenium.webdriver.remote.webelement.WebElement (session=\"c8f342867191cf2b55ce79b4a74b7186\", element=\"beb6a564-8a95-4f51-91c4-175456600a4a\")>, <selenium.webdriver.remote.webelement.WebElement (session=\"c8f342867191cf2b55ce79b4a74b7186\", element=\"c80b5fc6-2eeb-4433-803f-fcef45826b00\")>, <selenium.webdriver.remote.webelement.WebElement (session=\"c8f342867191cf2b55ce79b4a74b7186\", element=\"52a0a15c-e744-44ed-9665-6b84ac4106b4\")>, <selenium.webdriver.remote.webelement.WebElement (session=\"c8f342867191cf2b55ce79b4a74b7186\", element=\"9d25c373-bce0-40da-bcd8-c3592821e0c2\")>, <selenium.webdriver.remote.webelement.WebElement (session=\"c8f342867191cf2b55ce79b4a74b7186\", element=\"24bbb5f1-ab0a-4b08-aaa0-c2f5291d4c6e\")>, <selenium.webdriver.remote.webelement.WebElement (session=\"c8f342867191cf2b55ce79b4a74b7186\", element=\"d5830122-3c7d-40ab-9cc2-f838564e15c4\")>, <selenium.webdriver.remote.webelement.WebElement (session=\"c8f342867191cf2b55ce79b4a74b7186\", element=\"77984018-e447-41ea-bb80-e421fd0daf9c\")>, <selenium.webdriver.remote.webelement.WebElement (session=\"c8f342867191cf2b55ce79b4a74b7186\", element=\"4f79cc46-9e65-4e7e-bb26-2d318f235373\")>, <selenium.webdriver.remote.webelement.WebElement (session=\"c8f342867191cf2b55ce79b4a74b7186\", element=\"6febd1d6-3c34-4dbe-ae75-62364cbdaa5a\")>, <selenium.webdriver.remote.webelement.WebElement (session=\"c8f342867191cf2b55ce79b4a74b7186\", element=\"d1307f19-93c0-4f9c-bfb6-10dd7db90355\")>, <selenium.webdriver.remote.webelement.WebElement (session=\"c8f342867191cf2b55ce79b4a74b7186\", element=\"130ad5f3-a4d8-4fad-8cdb-168612a9d48c\")>]\n",
      "['https://www.myprotein.com/sports-nutrition/impact-whey-protein/10530943.html', 'https://www.myprotein.com/sports-nutrition/clear-whey-isolate/12081395.html', 'https://www.myprotein.com/sports-nutrition/impact-whey-isolate/10530911.html', 'https://www.myprotein.com/sports-nutrition/impact-diet-whey/10530657.html', 'https://www.myprotein.com/sports-nutrition/impact-weight-gainer/10529988.html', 'https://www.myprotein.com/sports-nutrition/flavdrops/10530471.html', 'https://www.myprotein.com/myprotein-app.list', 'https://www.myprotein.com/sports-clothing/mp-women-s-adapt-leggings-black-tie-dye/13468414.html', 'https://www.myprotein.com/sports-nutrition/vegan-protein-blend/11776868.html', 'https://www.myprotein.com/sports-nutrition/layered-protein-bar/12116519.html', 'https://www.myprotein.com/sports-nutrition/protein-pancake-mix/10867261.html', 'https://www.myprotein.com/protein-accessories/shaker/10485098.html', 'https://www.myprotein.com/sports-sweatshirt/limited-edition-mp-men-s-engage-hoodie-dark-grey-marl/12641308.html', 'https://www.myprotein.com/sports-nutrition/advanced-weight-gainer/10615587.html', 'https://www.myprotein.com/sports-nutrition/impact-protein-bar/13103437.html', 'https://www.myprotein.com/sports-nutrition/clear-vegan-protein/12360400.html', 'https://www.myprotein.com/sports-clothing/limited-edition-mp-women-s-engage-sports-bra-deep-purple/13157029.html', 'https://www.myprotein.com/vitamins/multivitamin-gummies/12088106.html', 'https://www.myprotein.com/sports-nutrition/the-pre-workout/12663794.html', 'https://www.myprotein.com/sports-nutrition/protein-wafer/10961185.html', 'https://www.myprotein.com/sports-nutrition/protein-brownie/11094927.html', 'https://www.myprotein.com/sports-trousers/mp-men-s-training-joggers-black/12439357.html', 'https://www.myprotein.com/sports-nutrition/alpha-men-multivitamin-tablets/10530421.html', 'https://www.myprotein.com/sports-nutrition/lean-protein-bar/11534149.html', 'https://www.myprotein.com/sports-nutrition/protein-meal-replacement-blend/11324199.html', 'https://www.myprotein.com/sports-nutrition/myvitamins-ashwagandha-ksm66-capsules/12335319.html', 'https://www.myprotein.com/sports-nutrition/high-protein-bar/11281405.html', 'https://www.myprotein.com/sports-clothing/limited-edition-mp-women-s-engage-leggings-deep-purple/13157085.html', 'https://www.myprotein.com/sports-nutrition/all-natural-peanut-butter/10530743.html', 'https://www.myprotein.com/sports-nutrition/the-whey/11353515.html', 'https://www.myprotein.com/sports-nutrition/essential-omega-3/10529329.html', 'https://www.myprotein.com/sports-nutrition/pre-workout-blend/11542703.html', 'https://www.myprotein.com/sports-nutrition/thermopure/10530152.html', 'https://www.myprotein.com/sports-clothing/mp-women-s-impact-scrunch-seamless-leggings-graphite/13636819.html', 'https://www.myprotein.com/sports-nutrition/zinc-magnesium-capsules/10529513.html', 'https://www.myprotein.com/sports-nutrition/essential-bcaa-2-1-1-powder/10529280.html', 'https://www.myprotein.com/sports-nutrition/collagen-protein/11067704.html']\n"
     ]
    }
   ],
   "source": [
    "links = bot.find_product_links()\n",
    "print(links)\n",
    "#bot.scrape_pages(links)\n"
   ]
  }
 ],
 "metadata": {
  "kernelspec": {
   "display_name": "Python 3.9.7 ('base')",
   "language": "python",
   "name": "python3"
  },
  "language_info": {
   "codemirror_mode": {
    "name": "ipython",
    "version": 3
   },
   "file_extension": ".py",
   "mimetype": "text/x-python",
   "name": "python",
   "nbconvert_exporter": "python",
   "pygments_lexer": "ipython3",
   "version": "3.9.7"
  },
  "orig_nbformat": 4,
  "vscode": {
   "interpreter": {
    "hash": "e1e488304739508dec9f042d542b0c62dbe5239598d401b9baf3a7e5073f914f"
   }
  }
 },
 "nbformat": 4,
 "nbformat_minor": 2
}
