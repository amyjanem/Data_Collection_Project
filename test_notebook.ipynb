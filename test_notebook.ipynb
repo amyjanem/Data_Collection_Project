{
 "cells": [
  {
   "cell_type": "code",
   "execution_count": 1,
   "metadata": {},
   "outputs": [],
   "source": [
    "import time\n",
    "from data_collection import MyProteinScraper\n",
    "from selenium import webdriver\n",
    "\n",
    "bot = MyProteinScraper()\n",
    "\n",
    "\n",
    "bot.close_email_signup()\n",
    "bot.accept_cookies()\n",
    "bot.nutrition_button_click()\n",
    "bot.open_all_nutrition_products()"
   ]
  },
  {
   "cell_type": "code",
   "execution_count": 1,
   "metadata": {},
   "outputs": [],
   "source": [
    "import time\n",
    "from data_collection import MyProteinScraper\n",
    "from selenium import webdriver\n",
    "\n",
    "bot = MyProteinScraper()"
   ]
  },
  {
   "cell_type": "code",
   "execution_count": 2,
   "metadata": {},
   "outputs": [
    {
     "data": {
      "text/plain": [
       "[{'Product ID': 'b9d8b577-1630-4b65-b547-2385205cf41f',\n",
       "  'Product Name': 'Impact Whey Protein',\n",
       "  'Price': '£11.99',\n",
       "  'Rating': '4.61',\n",
       "  'Time Scraped': '08:19:33',\n",
       "  'Image Link': 'https://static.thcdn.com/images/large/webp//productimg/1600/1600/10530943-1224889444460882.jpg'},\n",
       " {'Product ID': '0f2134cd-aa7c-4fe3-8ebf-1a8fd37aae97',\n",
       "  'Product Name': 'Clear Whey Isolate',\n",
       "  'Price': '£34.99',\n",
       "  'Rating': '4.6',\n",
       "  'Time Scraped': '08:19:38',\n",
       "  'Image Link': 'https://static.thcdn.com/images/large/webp//productimg/1600/1600/12081396-1994792209042321.jpg'}]"
      ]
     },
     "execution_count": 2,
     "metadata": {},
     "output_type": "execute_result"
    }
   ],
   "source": [
    "links = bot.find_product_links()\n",
    "bot.scrape_pages(links)"
   ]
  },
  {
   "cell_type": "code",
   "execution_count": 2,
   "metadata": {},
   "outputs": [
    {
     "data": {
      "text/plain": [
       "{'Product ID': 'c9344250-75ea-4b1d-bbb0-3d0af21f573b',\n",
       " 'Product Name': \"Limited Edition MP Women's Engage Sports Bra - Deep Purple\",\n",
       " 'Price': '£28.00',\n",
       " 'Rating': 'None',\n",
       " 'Time Scraped': '15:04:42',\n",
       " 'Image Link': 'https://static.thcdn.com/images/large/webp//productimg/1600/1600/13157029-1884969293574638.jpg'}"
      ]
     },
     "execution_count": 2,
     "metadata": {},
     "output_type": "execute_result"
    }
   ],
   "source": [
    "bot.get_product_data()"
   ]
  },
  {
   "cell_type": "code",
   "execution_count": 2,
   "metadata": {},
   "outputs": [
    {
     "name": "stdout",
     "output_type": "stream",
     "text": [
      "raw_data directory already exists\n"
     ]
    },
    {
     "data": {
      "text/plain": [
       "[{'Product ID': '001000fc-5f63-4d56-867d-4369405219ae',\n",
       "  'Product Name': 'Impact Whey Protein',\n",
       "  'Price': '£11.99',\n",
       "  'Rating': '4.61',\n",
       "  'Time Scraped': '06:56:57',\n",
       "  'Image Link': 'https://static.thcdn.com/images/large/webp//productimg/1600/1600/10530943-1224889444460882.jpg'},\n",
       " {'Product ID': '60f6d6c1-e160-4556-a09a-68e944ffe081',\n",
       "  'Product Name': 'Clear Whey Isolate',\n",
       "  'Price': '£34.99',\n",
       "  'Rating': '4.6',\n",
       "  'Time Scraped': '06:57:00',\n",
       "  'Image Link': 'https://static.thcdn.com/images/large/webp//productimg/1600/1600/12081396-1994792209042321.jpg'}]"
      ]
     },
     "execution_count": 2,
     "metadata": {},
     "output_type": "execute_result"
    }
   ],
   "source": [
    "links = bot.find_product_links()\n",
    "bot.scrape_pages(links)"
   ]
  },
  {
   "cell_type": "code",
   "execution_count": 2,
   "metadata": {},
   "outputs": [
    {
     "ename": "TypeError",
     "evalue": "can only concatenate str (not \"MyProteinScraper\") to str",
     "output_type": "error",
     "traceback": [
      "\u001b[1;31m---------------------------------------------------------------------------\u001b[0m",
      "\u001b[1;31mTypeError\u001b[0m                                 Traceback (most recent call last)",
      "\u001b[1;32m~\\AppData\\Local\\Temp/ipykernel_6048/1017149142.py\u001b[0m in \u001b[0;36m<module>\u001b[1;34m\u001b[0m\n\u001b[1;32m----> 1\u001b[1;33m \u001b[0mbot\u001b[0m\u001b[1;33m.\u001b[0m\u001b[0mcreate_folder_images\u001b[0m\u001b[1;33m(\u001b[0m\u001b[1;33m)\u001b[0m\u001b[1;33m\u001b[0m\u001b[1;33m\u001b[0m\u001b[0m\n\u001b[0m",
      "\u001b[1;32mc:\\Users\\amyma\\AiCore Projects\\Data_Collection_Project\\data_collection.py\u001b[0m in \u001b[0;36mcreate_folder_images\u001b[1;34m(product_link, image_src)\u001b[0m\n\u001b[0;32m    291\u001b[0m         \u001b[1;31m#     os.makedirs('images')\u001b[0m\u001b[1;33m\u001b[0m\u001b[1;33m\u001b[0m\u001b[0m\n\u001b[0;32m    292\u001b[0m \u001b[1;33m\u001b[0m\u001b[0m\n\u001b[1;32m--> 293\u001b[1;33m         \u001b[0mproduct_link\u001b[0m \u001b[1;33m=\u001b[0m \u001b[1;34m\"https://www.myprotein.com/\"\u001b[0m \u001b[1;33m+\u001b[0m \u001b[0mproduct_link\u001b[0m\u001b[1;33m\u001b[0m\u001b[1;33m\u001b[0m\u001b[0m\n\u001b[0m\u001b[0;32m    294\u001b[0m         \u001b[0mimage_src\u001b[0m \u001b[1;33m=\u001b[0m \u001b[0mproduct_link\u001b[0m \u001b[1;33m+\u001b[0m \u001b[0mimage_src\u001b[0m\u001b[1;33m\u001b[0m\u001b[1;33m\u001b[0m\u001b[0m\n\u001b[0;32m    295\u001b[0m \u001b[1;33m\u001b[0m\u001b[0m\n",
      "\u001b[1;31mTypeError\u001b[0m: can only concatenate str (not \"MyProteinScraper\") to str"
     ]
    }
   ],
   "source": [
    "bot.create_folder_images()"
   ]
  },
  {
   "cell_type": "code",
   "execution_count": 3,
   "metadata": {},
   "outputs": [
    {
     "data": {
      "text/plain": [
       "'https://static.thcdn.com/images/large/webp//productimg/1600/1600/10530943-1224889444460882.jpg'"
      ]
     },
     "execution_count": 3,
     "metadata": {},
     "output_type": "execute_result"
    }
   ],
   "source": [
    "bot.get_product_image()"
   ]
  },
  {
   "cell_type": "code",
   "execution_count": null,
   "metadata": {},
   "outputs": [],
   "source": []
  }
 ],
 "metadata": {
  "kernelspec": {
   "display_name": "Python 3.9.7 ('base')",
   "language": "python",
   "name": "python3"
  },
  "language_info": {
   "codemirror_mode": {
    "name": "ipython",
    "version": 3
   },
   "file_extension": ".py",
   "mimetype": "text/x-python",
   "name": "python",
   "nbconvert_exporter": "python",
   "pygments_lexer": "ipython3",
   "version": "3.9.7"
  },
  "orig_nbformat": 4,
  "vscode": {
   "interpreter": {
    "hash": "e1e488304739508dec9f042d542b0c62dbe5239598d401b9baf3a7e5073f914f"
   }
  }
 },
 "nbformat": 4,
 "nbformat_minor": 2
}
