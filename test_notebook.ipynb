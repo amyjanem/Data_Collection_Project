{
 "cells": [
  {
   "cell_type": "code",
   "execution_count": 1,
   "metadata": {},
   "outputs": [],
   "source": [
    "import time\n",
    "from data_collection import MyProteinScraper\n",
    "from selenium import webdriver\n",
    "\n",
    "bot = MyProteinScraper()\n",
    "\n",
    "\n",
    "bot.close_email_signup()\n",
    "bot.accept_cookies()\n",
    "bot.nutrition_button_click()\n",
    "bot.open_all_nutrition_products()"
   ]
  },
  {
   "cell_type": "code",
   "execution_count": 1,
   "metadata": {},
   "outputs": [],
   "source": [
    "import time\n",
    "from data_collection import MyProteinScraper\n",
    "from selenium import webdriver\n",
    "\n",
    "bot = MyProteinScraper()"
   ]
  },
  {
   "cell_type": "code",
   "execution_count": 2,
   "metadata": {},
   "outputs": [
    {
     "data": {
      "text/plain": [
       "[('Impact Whey Protein', '£5.88', '4.61'),\n",
       " ('Creatine Monohydrate Powder', '£14.70', '4.66')]"
      ]
     },
     "execution_count": 2,
     "metadata": {},
     "output_type": "execute_result"
    }
   ],
   "source": [
    "links = bot.find_product_links()\n",
    "bot.scrape_pages(links)"
   ]
  },
  {
   "cell_type": "code",
   "execution_count": 2,
   "metadata": {},
   "outputs": [
    {
     "name": "stdout",
     "output_type": "stream",
     "text": [
      "('Impact Whey Protein', '£11.99', '4.61')\n"
     ]
    }
   ],
   "source": [
    "data = bot.get_product_data()\n",
    "print(data)"
   ]
  },
  {
   "cell_type": "code",
   "execution_count": 4,
   "metadata": {},
   "outputs": [
    {
     "data": {
      "text/plain": [
       "{'Product ID': 'c1d1322e-8547-4637-b6f7-b32387f81cc5',\n",
       " 'Product Name': 'Impact Whey Protein',\n",
       " 'Price': '£11.99',\n",
       " 'Rating': '4.61',\n",
       " 'Time Scraped': '19:53:25',\n",
       " 'Image Link': 'https://static.thcdn.com/images/large/webp//productimg/1600/1600/10530943-1224889444460882.jpg'}"
      ]
     },
     "execution_count": 4,
     "metadata": {},
     "output_type": "execute_result"
    }
   ],
   "source": [
    "bot.create_product_dict(data[0], data[1], data[2])"
   ]
  },
  {
   "cell_type": "code",
   "execution_count": 2,
   "metadata": {},
   "outputs": [
    {
     "name": "stdout",
     "output_type": "stream",
     "text": [
      "raw_data directory already exists\n"
     ]
    },
    {
     "data": {
      "text/plain": [
       "[{'Product ID': '001000fc-5f63-4d56-867d-4369405219ae',\n",
       "  'Product Name': 'Impact Whey Protein',\n",
       "  'Price': '£11.99',\n",
       "  'Rating': '4.61',\n",
       "  'Time Scraped': '06:56:57',\n",
       "  'Image Link': 'https://static.thcdn.com/images/large/webp//productimg/1600/1600/10530943-1224889444460882.jpg'},\n",
       " {'Product ID': '60f6d6c1-e160-4556-a09a-68e944ffe081',\n",
       "  'Product Name': 'Clear Whey Isolate',\n",
       "  'Price': '£34.99',\n",
       "  'Rating': '4.6',\n",
       "  'Time Scraped': '06:57:00',\n",
       "  'Image Link': 'https://static.thcdn.com/images/large/webp//productimg/1600/1600/12081396-1994792209042321.jpg'}]"
      ]
     },
     "execution_count": 2,
     "metadata": {},
     "output_type": "execute_result"
    }
   ],
   "source": [
    "links = bot.find_product_links()\n",
    "bot.scrape_pages(links)"
   ]
  },
  {
   "cell_type": "code",
   "execution_count": 2,
   "metadata": {},
   "outputs": [],
   "source": [
    "image = bot.get_product_image()\n",
    "bot.download_image(image)"
   ]
  },
  {
   "cell_type": "code",
   "execution_count": 3,
   "metadata": {},
   "outputs": [
    {
     "data": {
      "text/plain": [
       "'https://static.thcdn.com/images/large/webp//productimg/1600/1600/10530943-1224889444460882.jpg'"
      ]
     },
     "execution_count": 3,
     "metadata": {},
     "output_type": "execute_result"
    }
   ],
   "source": [
    "bot.get_product_image()"
   ]
  },
  {
   "cell_type": "code",
   "execution_count": null,
   "metadata": {},
   "outputs": [],
   "source": []
  }
 ],
 "metadata": {
  "kernelspec": {
   "display_name": "Python 3.9.7 ('base')",
   "language": "python",
   "name": "python3"
  },
  "language_info": {
   "codemirror_mode": {
    "name": "ipython",
    "version": 3
   },
   "file_extension": ".py",
   "mimetype": "text/x-python",
   "name": "python",
   "nbconvert_exporter": "python",
   "pygments_lexer": "ipython3",
   "version": "3.9.7"
  },
  "orig_nbformat": 4,
  "vscode": {
   "interpreter": {
    "hash": "e1e488304739508dec9f042d542b0c62dbe5239598d401b9baf3a7e5073f914f"
   }
  }
 },
 "nbformat": 4,
 "nbformat_minor": 2
}
