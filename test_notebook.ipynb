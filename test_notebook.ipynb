{
 "cells": [
  {
   "cell_type": "code",
   "execution_count": 1,
   "metadata": {},
   "outputs": [],
   "source": [
    "import time\n",
    "from data_collection import MyProteinScraper\n",
    "from selenium import webdriver\n",
    "\n",
    "bot = MyProteinScraper()\n",
    "\n",
    "\n",
    "bot.close_email_signup()\n",
    "bot.accept_cookies()\n",
    "bot.nutrition_button_click()\n",
    "bot.open_all_nutrition_products()"
   ]
  },
  {
   "cell_type": "code",
   "execution_count": 1,
   "metadata": {},
   "outputs": [
    {
     "ename": "IndentationError",
     "evalue": "expected an indented block (data_collection.py, line 301)",
     "output_type": "error",
     "traceback": [
      "Traceback \u001b[1;36m(most recent call last)\u001b[0m:\n",
      "  File \u001b[0;32m\"c:\\Users\\amyma\\anaconda3\\lib\\site-packages\\IPython\\core\\interactiveshell.py\"\u001b[0m, line \u001b[0;32m3444\u001b[0m, in \u001b[0;35mrun_code\u001b[0m\n    exec(code_obj, self.user_global_ns, self.user_ns)\n",
      "\u001b[1;36m  File \u001b[1;32m\"C:\\Users\\amyma\\AppData\\Local\\Temp/ipykernel_2608/484642041.py\"\u001b[1;36m, line \u001b[1;32m2\u001b[1;36m, in \u001b[1;35m<module>\u001b[1;36m\u001b[0m\n\u001b[1;33m    from data_collection import MyProteinScraper\u001b[0m\n",
      "\u001b[1;36m  File \u001b[1;32m\"c:\\Users\\amyma\\AiCore Projects\\Data_Collection_Project\\data_collection.py\"\u001b[1;36m, line \u001b[1;32m301\u001b[0m\n\u001b[1;33m    if __name__ == \"__main__\":\u001b[0m\n\u001b[1;37m                              ^\u001b[0m\n\u001b[1;31mIndentationError\u001b[0m\u001b[1;31m:\u001b[0m expected an indented block\n"
     ]
    }
   ],
   "source": [
    "import time\n",
    "from data_collection import MyProteinScraper\n",
    "from selenium import webdriver\n",
    "\n",
    "bot = MyProteinScraper()"
   ]
  },
  {
   "cell_type": "code",
   "execution_count": 2,
   "metadata": {},
   "outputs": [
    {
     "name": "stdout",
     "output_type": "stream",
     "text": [
      "No Product Rating\n"
     ]
    },
    {
     "ename": "UnboundLocalError",
     "evalue": "local variable 'product_rating' referenced before assignment",
     "output_type": "error",
     "traceback": [
      "\u001b[1;31m---------------------------------------------------------------------------\u001b[0m",
      "\u001b[1;31mUnboundLocalError\u001b[0m                         Traceback (most recent call last)",
      "\u001b[1;32m~\\AppData\\Local\\Temp/ipykernel_20052/3810619874.py\u001b[0m in \u001b[0;36m<module>\u001b[1;34m\u001b[0m\n\u001b[0;32m      1\u001b[0m \u001b[0mlinks\u001b[0m \u001b[1;33m=\u001b[0m \u001b[0mbot\u001b[0m\u001b[1;33m.\u001b[0m\u001b[0mfind_product_links\u001b[0m\u001b[1;33m(\u001b[0m\u001b[1;33m)\u001b[0m\u001b[1;33m\u001b[0m\u001b[1;33m\u001b[0m\u001b[0m\n\u001b[1;32m----> 2\u001b[1;33m \u001b[0mbot\u001b[0m\u001b[1;33m.\u001b[0m\u001b[0mscrape_pages\u001b[0m\u001b[1;33m(\u001b[0m\u001b[0mlinks\u001b[0m\u001b[1;33m)\u001b[0m\u001b[1;33m\u001b[0m\u001b[1;33m\u001b[0m\u001b[0m\n\u001b[0m",
      "\u001b[1;32mc:\\Users\\amyma\\AiCore Projects\\Data_Collection_Project\\data_collection.py\u001b[0m in \u001b[0;36mscrape_pages\u001b[1;34m(self, product_link_list)\u001b[0m\n\u001b[0;32m    252\u001b[0m             \u001b[0mtime\u001b[0m\u001b[1;33m.\u001b[0m\u001b[0msleep\u001b[0m\u001b[1;33m(\u001b[0m\u001b[1;36m1\u001b[0m\u001b[1;33m)\u001b[0m\u001b[1;33m\u001b[0m\u001b[1;33m\u001b[0m\u001b[0m\n\u001b[0;32m    253\u001b[0m \u001b[1;33m\u001b[0m\u001b[0m\n\u001b[1;32m--> 254\u001b[1;33m             \u001b[0mproduct_data\u001b[0m \u001b[1;33m=\u001b[0m \u001b[0mself\u001b[0m\u001b[1;33m.\u001b[0m\u001b[0mget_product_data\u001b[0m\u001b[1;33m(\u001b[0m\u001b[1;33m)\u001b[0m\u001b[1;33m\u001b[0m\u001b[1;33m\u001b[0m\u001b[0m\n\u001b[0m\u001b[0;32m    255\u001b[0m             \u001b[0mproduct_data_list_all\u001b[0m\u001b[1;33m.\u001b[0m\u001b[0mappend\u001b[0m\u001b[1;33m(\u001b[0m\u001b[0mproduct_data\u001b[0m\u001b[1;33m)\u001b[0m\u001b[1;33m\u001b[0m\u001b[1;33m\u001b[0m\u001b[0m\n\u001b[0;32m    256\u001b[0m \u001b[1;33m\u001b[0m\u001b[0m\n",
      "\u001b[1;32mc:\\Users\\amyma\\AiCore Projects\\Data_Collection_Project\\data_collection.py\u001b[0m in \u001b[0;36mget_product_data\u001b[1;34m(self)\u001b[0m\n\u001b[0;32m    210\u001b[0m             \u001b[1;34m\"Product Name\"\u001b[0m \u001b[1;33m:\u001b[0m \u001b[0mproduct_name\u001b[0m\u001b[1;33m,\u001b[0m\u001b[1;33m\u001b[0m\u001b[1;33m\u001b[0m\u001b[0m\n\u001b[0;32m    211\u001b[0m             \u001b[1;34m\"Price\"\u001b[0m \u001b[1;33m:\u001b[0m \u001b[0mproduct_price\u001b[0m\u001b[1;33m,\u001b[0m\u001b[1;33m\u001b[0m\u001b[1;33m\u001b[0m\u001b[0m\n\u001b[1;32m--> 212\u001b[1;33m             \u001b[1;34m\"Rating\"\u001b[0m \u001b[1;33m:\u001b[0m \u001b[0mproduct_rating\u001b[0m\u001b[1;33m,\u001b[0m\u001b[1;33m\u001b[0m\u001b[1;33m\u001b[0m\u001b[0m\n\u001b[0m\u001b[0;32m    213\u001b[0m             \u001b[1;34m\"Time Scraped\"\u001b[0m \u001b[1;33m:\u001b[0m \u001b[0mself\u001b[0m\u001b[1;33m.\u001b[0m\u001b[0mget_timestamp\u001b[0m\u001b[1;33m(\u001b[0m\u001b[1;33m)\u001b[0m\u001b[1;33m,\u001b[0m\u001b[1;33m\u001b[0m\u001b[1;33m\u001b[0m\u001b[0m\n\u001b[0;32m    214\u001b[0m             \u001b[1;34m\"Image Link\"\u001b[0m \u001b[1;33m:\u001b[0m \u001b[0mself\u001b[0m\u001b[1;33m.\u001b[0m\u001b[0mget_product_image\u001b[0m\u001b[1;33m(\u001b[0m\u001b[1;33m)\u001b[0m\u001b[1;33m\u001b[0m\u001b[1;33m\u001b[0m\u001b[0m\n",
      "\u001b[1;31mUnboundLocalError\u001b[0m: local variable 'product_rating' referenced before assignment"
     ]
    }
   ],
   "source": [
    "links = bot.find_product_links()\n",
    "bot.scrape_pages(links)"
   ]
  },
  {
   "cell_type": "code",
   "execution_count": 2,
   "metadata": {},
   "outputs": [
    {
     "data": {
      "text/plain": [
       "{'Product ID': 'c9344250-75ea-4b1d-bbb0-3d0af21f573b',\n",
       " 'Product Name': \"Limited Edition MP Women's Engage Sports Bra - Deep Purple\",\n",
       " 'Price': '£28.00',\n",
       " 'Rating': 'None',\n",
       " 'Time Scraped': '15:04:42',\n",
       " 'Image Link': 'https://static.thcdn.com/images/large/webp//productimg/1600/1600/13157029-1884969293574638.jpg'}"
      ]
     },
     "execution_count": 2,
     "metadata": {},
     "output_type": "execute_result"
    }
   ],
   "source": [
    "bot.get_product_data()"
   ]
  },
  {
   "cell_type": "code",
   "execution_count": 2,
   "metadata": {},
   "outputs": [
    {
     "name": "stdout",
     "output_type": "stream",
     "text": [
      "raw_data directory already exists\n"
     ]
    },
    {
     "data": {
      "text/plain": [
       "[{'Product ID': '001000fc-5f63-4d56-867d-4369405219ae',\n",
       "  'Product Name': 'Impact Whey Protein',\n",
       "  'Price': '£11.99',\n",
       "  'Rating': '4.61',\n",
       "  'Time Scraped': '06:56:57',\n",
       "  'Image Link': 'https://static.thcdn.com/images/large/webp//productimg/1600/1600/10530943-1224889444460882.jpg'},\n",
       " {'Product ID': '60f6d6c1-e160-4556-a09a-68e944ffe081',\n",
       "  'Product Name': 'Clear Whey Isolate',\n",
       "  'Price': '£34.99',\n",
       "  'Rating': '4.6',\n",
       "  'Time Scraped': '06:57:00',\n",
       "  'Image Link': 'https://static.thcdn.com/images/large/webp//productimg/1600/1600/12081396-1994792209042321.jpg'}]"
      ]
     },
     "execution_count": 2,
     "metadata": {},
     "output_type": "execute_result"
    }
   ],
   "source": [
    "links = bot.find_product_links()\n",
    "bot.scrape_pages(links)"
   ]
  }
 ],
 "metadata": {
  "kernelspec": {
   "display_name": "Python 3.9.7 ('base')",
   "language": "python",
   "name": "python3"
  },
  "language_info": {
   "codemirror_mode": {
    "name": "ipython",
    "version": 3
   },
   "file_extension": ".py",
   "mimetype": "text/x-python",
   "name": "python",
   "nbconvert_exporter": "python",
   "pygments_lexer": "ipython3",
   "version": "3.9.7"
  },
  "orig_nbformat": 4,
  "vscode": {
   "interpreter": {
    "hash": "e1e488304739508dec9f042d542b0c62dbe5239598d401b9baf3a7e5073f914f"
   }
  }
 },
 "nbformat": 4,
 "nbformat_minor": 2
}
