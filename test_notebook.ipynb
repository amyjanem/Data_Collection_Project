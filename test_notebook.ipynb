{
 "cells": [
  {
   "cell_type": "code",
   "execution_count": 7,
   "metadata": {},
   "outputs": [],
   "source": [
    "import time\n",
    "from data_collection import MyProteinScraper\n",
    "from selenium import webdriver\n",
    "\n",
    "bot = MyProteinScraper()\n",
    "\n",
    "\n",
    "bot.close_email_signup()\n",
    "bot.accept_cookies()\n",
    "bot.nutrition_button_click()\n",
    "bot.open_all_nutrition_products()"
   ]
  },
  {
   "cell_type": "code",
   "execution_count": 8,
   "metadata": {},
   "outputs": [],
   "source": [
    "bot.first_product_click()"
   ]
  },
  {
   "cell_type": "code",
   "execution_count": 10,
   "metadata": {},
   "outputs": [
    {
     "data": {
      "text/plain": [
       "{'Product Name': 'Impact Whey Protein', 'Price': '£11.99', 'Rating': '4.61'}"
      ]
     },
     "execution_count": 10,
     "metadata": {},
     "output_type": "execute_result"
    }
   ],
   "source": [
    "bot.create_product_dict('https://www.myprotein.com/sports-nutrition/impact-whey-protein/10530943.html')\n",
    "#bot.get_product_image()\n"
   ]
  }
 ],
 "metadata": {
  "kernelspec": {
   "display_name": "Python 3.9.7 ('base')",
   "language": "python",
   "name": "python3"
  },
  "language_info": {
   "codemirror_mode": {
    "name": "ipython",
    "version": 3
   },
   "file_extension": ".py",
   "mimetype": "text/x-python",
   "name": "python",
   "nbconvert_exporter": "python",
   "pygments_lexer": "ipython3",
   "version": "3.9.7"
  },
  "orig_nbformat": 4,
  "vscode": {
   "interpreter": {
    "hash": "e1e488304739508dec9f042d542b0c62dbe5239598d401b9baf3a7e5073f914f"
   }
  }
 },
 "nbformat": 4,
 "nbformat_minor": 2
}
