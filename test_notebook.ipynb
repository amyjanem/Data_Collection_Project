{
 "cells": [
  {
   "cell_type": "code",
   "execution_count": 1,
   "metadata": {},
   "outputs": [],
   "source": [
    "import time\n",
    "from data_collection import MyProteinScraper\n",
    "from selenium import webdriver\n",
    "\n",
    "bot = MyProteinScraper()\n",
    "\n",
    "\n",
    "bot.close_email_signup()\n",
    "bot.accept_cookies()\n",
    "bot.nutrition_button_click()\n",
    "bot.open_all_nutrition_products()"
   ]
  },
  {
   "cell_type": "code",
   "execution_count": 2,
   "metadata": {},
   "outputs": [
    {
     "name": "stdout",
     "output_type": "stream",
     "text": [
      "['https://www.myprotein.com/sports-nutrition/impact-whey-protein/10530943.html', 'https://www.myprotein.com/sports-nutrition/clear-whey-isolate/12081395.html', 'https://www.myprotein.com/sports-nutrition/impact-whey-isolate/10530911.html', 'https://www.myprotein.com/sports-nutrition/impact-diet-whey/10530657.html', 'https://www.myprotein.com/sports-nutrition/impact-weight-gainer/10529988.html', 'https://www.myprotein.com/sports-nutrition/flavdrops/10530471.html', 'https://www.myprotein.com/sports-clothing/mp-women-s-adapt-leggings-black-tie-dye/13468414.html', 'https://www.myprotein.com/sports-nutrition/vegan-protein-blend/11776868.html', 'https://www.myprotein.com/sports-nutrition/layered-protein-bar/12116519.html', 'https://www.myprotein.com/sports-nutrition/protein-pancake-mix/10867261.html', 'https://www.myprotein.com/protein-accessories/shaker/10485098.html', 'https://www.myprotein.com/sports-sweatshirt/limited-edition-mp-men-s-engage-hoodie-dark-grey-marl/12641308.html', 'https://www.myprotein.com/sports-nutrition/advanced-weight-gainer/10615587.html', 'https://www.myprotein.com/sports-nutrition/impact-protein-bar/13103437.html', 'https://www.myprotein.com/sports-nutrition/clear-vegan-protein/12360400.html', 'https://www.myprotein.com/sports-clothing/limited-edition-mp-women-s-engage-sports-bra-deep-purple/13157029.html', 'https://www.myprotein.com/vitamins/multivitamin-gummies/12088106.html', 'https://www.myprotein.com/sports-nutrition/the-pre-workout/12663794.html', 'https://www.myprotein.com/sports-nutrition/protein-wafer/10961185.html', 'https://www.myprotein.com/sports-nutrition/protein-brownie/11094927.html', 'https://www.myprotein.com/sports-trousers/mp-men-s-training-joggers-black/12439357.html', 'https://www.myprotein.com/sports-nutrition/alpha-men-multivitamin-tablets/10530421.html', 'https://www.myprotein.com/sports-nutrition/lean-protein-bar/11534149.html', 'https://www.myprotein.com/sports-nutrition/protein-meal-replacement-blend/11324199.html', 'https://www.myprotein.com/sports-nutrition/myvitamins-ashwagandha-ksm66-capsules/12335319.html', 'https://www.myprotein.com/sports-nutrition/high-protein-bar/11281405.html', 'https://www.myprotein.com/sports-clothing/limited-edition-mp-women-s-engage-leggings-deep-purple/13157085.html', 'https://www.myprotein.com/sports-nutrition/all-natural-peanut-butter/10530743.html', 'https://www.myprotein.com/sports-nutrition/the-whey/11353515.html', 'https://www.myprotein.com/sports-nutrition/essential-omega-3/10529329.html', 'https://www.myprotein.com/sports-nutrition/pre-workout-blend/11542703.html', 'https://www.myprotein.com/sports-nutrition/thermopure/10530152.html', 'https://www.myprotein.com/sports-clothing/mp-women-s-impact-scrunch-seamless-leggings-graphite/13636819.html', 'https://www.myprotein.com/sports-nutrition/zinc-magnesium-capsules/10529513.html', 'https://www.myprotein.com/sports-nutrition/essential-bcaa-2-1-1-powder/10529280.html', 'https://www.myprotein.com/sports-nutrition/collagen-protein/11067704.html']\n"
     ]
    }
   ],
   "source": [
    "links = bot.find_product_links()\n",
    "print(links)"
   ]
  },
  {
   "cell_type": "code",
   "execution_count": 6,
   "metadata": {},
   "outputs": [
    {
     "data": {
      "text/plain": [
       "{'Product ID': '1311b851-4bec-4c9a-bc53-fb31d2fd164f',\n",
       " 'Product Name': 'Impact Whey Protein',\n",
       " 'Price': '£11.99',\n",
       " 'Rating': '4.61',\n",
       " 'Time Scraped': '09:41:36'}"
      ]
     },
     "execution_count": 6,
     "metadata": {},
     "output_type": "execute_result"
    }
   ],
   "source": [
    "#bot.first_product_click()\n",
    "#first_link = links[0]\n",
    "bot.get_product_data()"
   ]
  }
 ],
 "metadata": {
  "kernelspec": {
   "display_name": "Python 3.9.7 ('base')",
   "language": "python",
   "name": "python3"
  },
  "language_info": {
   "codemirror_mode": {
    "name": "ipython",
    "version": 3
   },
   "file_extension": ".py",
   "mimetype": "text/x-python",
   "name": "python",
   "nbconvert_exporter": "python",
   "pygments_lexer": "ipython3",
   "version": "3.9.7"
  },
  "orig_nbformat": 4,
  "vscode": {
   "interpreter": {
    "hash": "e1e488304739508dec9f042d542b0c62dbe5239598d401b9baf3a7e5073f914f"
   }
  }
 },
 "nbformat": 4,
 "nbformat_minor": 2
}
